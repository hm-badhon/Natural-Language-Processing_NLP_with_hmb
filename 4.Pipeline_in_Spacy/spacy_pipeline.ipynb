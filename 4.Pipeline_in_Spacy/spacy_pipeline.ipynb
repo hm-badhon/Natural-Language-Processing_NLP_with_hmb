{
 "cells": [
  {
   "cell_type": "code",
   "execution_count": 94,
   "metadata": {},
   "outputs": [
    {
     "name": "stdout",
     "output_type": "stream",
     "text": [
      "[('これ', 'PRON'), ('は', 'ADP'), ('文章', 'ADJ'), ('です', 'AUX'), ('。', 'PUNCT')]\n"
     ]
    }
   ],
   "source": [
    "# for japanese \n",
    "# !python -m spacy download ja_core_news_sm\n",
    "\n",
    "import ja_core_news_sm\n",
    "\n",
    "nlp = spacy.load(\"ja_core_news_sm\")\n",
    "\n",
    "nlp = ja_core_news_sm.load()\n",
    "\n",
    "doc = nlp(\"これは文章です。\")\n",
    "print([(w.text,w.pos_) for w in doc])\n",
    "\n"
   ]
  },
  {
   "cell_type": "markdown",
   "metadata": {},
   "source": [
    "Download trained pipeline\n",
    "To download trained pipeline use a command such as,\n",
    "\n",
    "python -m spacy download en_core_web_sm\n",
    "\n",
    "This downloads the small (sm) pipeline for english language\n",
    "\n",
    "Further instructions on : https://spacy.io/usage/models#quickstart"
   ]
  },
  {
   "cell_type": "code",
   "execution_count": 95,
   "metadata": {},
   "outputs": [],
   "source": [
    "# !python -m spacy download en_core_web_sm"
   ]
  },
  {
   "cell_type": "code",
   "execution_count": 96,
   "metadata": {},
   "outputs": [
    {
     "data": {
      "text/plain": [
       "['tok2vec', 'tagger', 'parser', 'attribute_ruler', 'lemmatizer', 'ner']"
      ]
     },
     "execution_count": 96,
     "metadata": {},
     "output_type": "execute_result"
    }
   ],
   "source": [
    "import spacy\n",
    "\n",
    "nlp = spacy.load(\"en_core_web_sm\")\n",
    "nlp.pipe_names"
   ]
  },
  {
   "cell_type": "code",
   "execution_count": 97,
   "metadata": {},
   "outputs": [
    {
     "name": "stdout",
     "output_type": "stream",
     "text": [
      "Captain POS : PROPN Lemmatization :  Captain\n",
      "america POS : PROPN Lemmatization :  america\n",
      "ate POS : VERB Lemmatization :  eat\n",
      "100 POS : NUM Lemmatization :  100\n",
      "$ POS : NUM Lemmatization :  $\n",
      "of POS : ADP Lemmatization :  of\n",
      "samosa POS : PROPN Lemmatization :  samosa\n",
      ". POS : PUNCT Lemmatization :  .\n",
      "Then POS : ADV Lemmatization :  then\n",
      "he POS : PRON Lemmatization :  he\n",
      "said POS : VERB Lemmatization :  say\n",
      "I POS : PRON Lemmatization :  I\n",
      "can POS : AUX Lemmatization :  can\n",
      "do POS : VERB Lemmatization :  do\n",
      "this POS : PRON Lemmatization :  this\n",
      "all POS : DET Lemmatization :  all\n",
      "day POS : NOUN Lemmatization :  day\n",
      ". POS : PUNCT Lemmatization :  .\n"
     ]
    }
   ],
   "source": [
    "\n",
    "doc = nlp(\"Captain america ate 100$ of samosa. Then he said I can do this all day.\")\n",
    "\n",
    "for token in doc:\n",
    "    print(token,\"POS :\",token.pos_,\"Lemmatization : \", token.lemma_)"
   ]
  },
  {
   "cell_type": "code",
   "execution_count": 99,
   "metadata": {},
   "outputs": [
    {
     "name": "stdout",
     "output_type": "stream",
     "text": [
      "NSL ----- ORG ----- Companies, agencies, institutions, etc.\n",
      "Bangladesh ----- GPE ----- Countries, cities, states\n",
      "$450 Billion ----- MONEY ----- Monetary values, including unit\n"
     ]
    }
   ],
   "source": [
    "from spacy import displacy\n",
    "\n",
    "def ner(input_text):\n",
    "    docs = nlp(input_text)\n",
    "    name=[]\n",
    "    label_ner=[]\n",
    "    label_explain=[]\n",
    "    for ent in docs.ents:\n",
    "        print(ent.text,\"-----\" ,ent.label_,\"-----\", spacy.explain(ent.label_))\n",
    "        name, label_ner , label_explain = ent.text, ent.label_ ,spacy.explain(ent.label_)\n",
    "    return name, label_ner, label_explain\n",
    "\n",
    "input_text= \"NSL is one the best Ai company in Bangladesh . It is going to aquire for $450 Billion\"\n",
    "\n",
    "\n",
    "result = ner(input_text)\n"
   ]
  },
  {
   "cell_type": "code",
   "execution_count": 102,
   "metadata": {},
   "outputs": [
    {
     "name": "stdout",
     "output_type": "stream",
     "text": [
      "Tesla Inc  |  ORG  |  Companies, agencies, institutions, etc.\n",
      "Twitter  |  MISC  |  Miscellaneous entities, e.g. events, nationalities, products or works of art\n"
     ]
    }
   ],
   "source": [
    "# !python -m spacy download fr_core_news_sm\n",
    "nlp = spacy.load(\"fr_core_news_sm\")\n",
    "doc = nlp(\"Tesla Inc va racheter Twitter pour $45 milliards de dollars\")\n",
    "for ent in doc.ents:\n",
    "    print(ent.text, \" | \", ent.label_, \" | \", spacy.explain(ent.label_))"
   ]
  },
  {
   "cell_type": "code",
   "execution_count": 108,
   "metadata": {},
   "outputs": [
    {
     "name": "stdout",
     "output_type": "stream",
     "text": [
      "Tesla  |  PROPN  |  Tesla  | \n",
      "Inc  |  PROPN  |  Inc  | \n",
      "va  |  VERB  |  aller  | \n",
      "racheter  |  VERB  |  racheter  | \n",
      "Twitter  |  VERB  |  twitter  | \n",
      "pour  |  ADP  |  pour  | \n",
      "$  |  NOUN  |  dollar  | \n",
      "45  |  NUM  |  45  | \n",
      "milliards  |  NOUN  |  milliard  | \n",
      "de  |  ADP  |  de  | \n",
      "dollars  |  NOUN  |  dollar  | \n"
     ]
    }
   ],
   "source": [
    "for token in doc:\n",
    "    print(token, \" | \", token.pos_, \" | \", token.lemma_, \" | \")"
   ]
  },
  {
   "cell_type": "code",
   "execution_count": 114,
   "metadata": {},
   "outputs": [
    {
     "name": "stdout",
     "output_type": "stream",
     "text": [
      "NSL  |  ORG  |  Companies, agencies, institutions, etc.\n",
      "Bangladesh  |  GPE  |  Countries, cities, states\n",
      "$450 Billion  |  MONEY  |  Monetary values, including unit\n"
     ]
    }
   ],
   "source": [
    "source_nlp = spacy.load(\"en_core_web_sm\")\n",
    "\n",
    "nlp = spacy.blank(\"en\")\n",
    "\n",
    "nlp.add_pipe(\"ner\", source=source_nlp)\n",
    "\n",
    "nlp.pipe_names\n",
    "\n",
    "doc = nlp(\"NSL is one the best Ai company in Bangladesh . It is going to aquire for $450 Billion\")\n",
    "\n",
    "for ent in doc.ents:\n",
    "    print(ent.text, \" | \", ent.label_, \" | \", spacy.explain(ent.label_))"
   ]
  },
  {
   "cell_type": "code",
   "execution_count": null,
   "metadata": {},
   "outputs": [],
   "source": []
  }
 ],
 "metadata": {
  "kernelspec": {
   "display_name": "bd",
   "language": "python",
   "name": "python3"
  },
  "language_info": {
   "codemirror_mode": {
    "name": "ipython",
    "version": 3
   },
   "file_extension": ".py",
   "mimetype": "text/x-python",
   "name": "python",
   "nbconvert_exporter": "python",
   "pygments_lexer": "ipython3",
   "version": "3.11.4"
  },
  "orig_nbformat": 4
 },
 "nbformat": 4,
 "nbformat_minor": 2
}
