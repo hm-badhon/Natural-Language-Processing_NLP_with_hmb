{
 "cells": [
  {
   "cell_type": "markdown",
   "metadata": {},
   "source": [
    "# Excersie: 1\n",
    "## Get all the proper nouns from a given text in a list and also count how many of them.\n",
    "## Proper Noun means a noun that names a particular person, place, or thing"
   ]
  },
  {
   "cell_type": "code",
   "execution_count": 7,
   "metadata": {},
   "outputs": [
    {
     "name": "stdout",
     "output_type": "stream",
     "text": [
      "Proper noun :  [Siyam, badhon, jibon, Paris, London, Dubai, Rome, Mohan, Hyderabad, Bangladesh, NSL]\n",
      " Number of proper noun : 11\n"
     ]
    }
   ],
   "source": [
    "import spacy\n",
    "nlp = spacy.load(\"en_core_web_sm\")\n",
    "\n",
    "\n",
    "text = ''' Siyam , badhon and jibon are the best friends from school days.They wanted to go for a world tour and \n",
    "visit famous cities like Paris, London, Dubai, Rome etc and also they called their another friend Mohan to take part of this world tour.\n",
    "They started their journey from Hyderabad, Bangladesh , NSL and spent next 3 months travelling all the wonderful cities in the world and cherish a happy moments!\n",
    "'''\n",
    "\n",
    "# Creating a nlp object\n",
    "doc = nlp(text)\n",
    "\n",
    "\n",
    "# listing proper noun\n",
    "all_proper_noun = []\n",
    "\n",
    "for token in doc:\n",
    "    if token.pos_ == \"PROPN\":\n",
    "        all_proper_noun.append(token)\n",
    "print(\"Proper noun : \", all_proper_noun)\n",
    "print(\" Number of proper noun :\", len(all_proper_noun))\n",
    "\n"
   ]
  },
  {
   "cell_type": "code",
   "execution_count": null,
   "metadata": {},
   "outputs": [],
   "source": []
  }
 ],
 "metadata": {
  "kernelspec": {
   "display_name": "bd",
   "language": "python",
   "name": "python3"
  },
  "language_info": {
   "codemirror_mode": {
    "name": "ipython",
    "version": 3
   },
   "file_extension": ".py",
   "mimetype": "text/x-python",
   "name": "python",
   "nbconvert_exporter": "python",
   "pygments_lexer": "ipython3",
   "version": "3.11.4"
  },
  "orig_nbformat": 4
 },
 "nbformat": 4,
 "nbformat_minor": 2
}
