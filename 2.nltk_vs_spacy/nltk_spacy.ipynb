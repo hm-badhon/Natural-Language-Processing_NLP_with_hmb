{
 "cells": [
  {
   "cell_type": "code",
   "execution_count": null,
   "metadata": {},
   "outputs": [],
   "source": []
  },
  {
   "cell_type": "markdown",
   "metadata": {},
   "source": [
    "# Installation instructions\n",
    "pip install spacy\n",
    "\n",
    "python -m spacy download en\n",
    "\n",
    "pip install nltk\n",
    "# Sentence & Word Tokenization In Spacy\n"
   ]
  },
  {
   "cell_type": "code",
   "execution_count": 19,
   "metadata": {},
   "outputs": [
    {
     "name": "stdout",
     "output_type": "stream",
     "text": [
      "<class 'spacy.tokens.span.Span'>\n",
      "Dr. Strange loves pav bhaji of mumbi .\n",
      "<class 'spacy.tokens.span.Span'>\n",
      "hulk loves chat of delhi .  \n",
      "<class 'spacy.tokens.span.Span'>\n",
      "I love learning goioi .\n"
     ]
    }
   ],
   "source": [
    "\n",
    "import spacy\n",
    "\n",
    "nlp = spacy.load(\"en_core_web_sm\")\n",
    "\n",
    "doc = nlp(\"Dr. Strange loves pav bhaji of mumbi . hulk loves chat of delhi .  I love learning goioi .\")\n",
    "# sentence tokenization\n",
    "for sentence in doc.sents :\n",
    "    print(type(sentence))\n",
    "    print(sentence)"
   ]
  },
  {
   "cell_type": "code",
   "execution_count": 13,
   "metadata": {},
   "outputs": [
    {
     "name": "stdout",
     "output_type": "stream",
     "text": [
      "New sentence  : \n",
      "\n",
      "Dr. Strange loves pav bhaji of mumbi .\n",
      "Dr.\n",
      "Strange\n",
      "loves\n",
      "pav\n",
      "bhaji\n",
      "of\n",
      "mumbi\n",
      ".\n",
      "New sentence  : \n",
      "\n",
      "hulk loves chat of delhi .  \n",
      "hulk\n",
      "loves\n",
      "chat\n",
      "of\n",
      "delhi\n",
      ".\n",
      " \n",
      "New sentence  : \n",
      "\n",
      "I love learning goioi .\n",
      "I\n",
      "love\n",
      "learning\n",
      "goioi\n",
      ".\n"
     ]
    }
   ],
   "source": [
    "# word tokenization\n",
    "\n",
    "for sentence in doc.sents:\n",
    "    print(sentence)\n",
    "    print(\"New sentence  :\")\n",
    "    for word in sentence:\n",
    "        print(word) "
   ]
  },
  {
   "cell_type": "code",
   "execution_count": null,
   "metadata": {},
   "outputs": [],
   "source": []
  },
  {
   "cell_type": "markdown",
   "metadata": {},
   "source": [
    "# Sentence & Word Tokenization In NLTK\n"
   ]
  },
  {
   "cell_type": "code",
   "execution_count": 14,
   "metadata": {},
   "outputs": [
    {
     "name": "stderr",
     "output_type": "stream",
     "text": [
      "[nltk_data] Downloading package punkt to /home/nsl47/nltk_data...\n",
      "[nltk_data]   Unzipping tokenizers/punkt.zip.\n"
     ]
    },
    {
     "data": {
      "text/plain": [
       "True"
      ]
     },
     "execution_count": 14,
     "metadata": {},
     "output_type": "execute_result"
    }
   ],
   "source": [
    "from nltk.tokenize import sent_tokenize\n",
    "\n",
    "import nltk\n",
    "nltk.download('punkt')"
   ]
  },
  {
   "cell_type": "code",
   "execution_count": 17,
   "metadata": {},
   "outputs": [
    {
     "name": "stdout",
     "output_type": "stream",
     "text": [
      "<class 'list'>\n",
      "[' Dr.', 'Strange loves pav bhaji of mumbi .', 'hulk loves chat of delhi .', 'I love learning goioi .']\n"
     ]
    }
   ],
   "source": [
    "split_sentence=sent_tokenize(\" Dr. Strange loves pav bhaji of mumbi . hulk loves chat of delhi .  I love learning goioi . \")\n",
    "\n",
    "print(type(split_sentence))\n",
    "print(split_sentence)"
   ]
  },
  {
   "cell_type": "code",
   "execution_count": 18,
   "metadata": {},
   "outputs": [
    {
     "data": {
      "text/plain": [
       "['Dr',\n",
       " '.',\n",
       " 'Strange',\n",
       " 'loves',\n",
       " 'pav',\n",
       " 'bhaji',\n",
       " 'of',\n",
       " 'mumbi',\n",
       " '.',\n",
       " 'hulk',\n",
       " 'loves',\n",
       " 'chat',\n",
       " 'of',\n",
       " 'delhi',\n",
       " '.',\n",
       " 'I',\n",
       " 'love',\n",
       " 'learning',\n",
       " 'goioi',\n",
       " '.']"
      ]
     },
     "execution_count": 18,
     "metadata": {},
     "output_type": "execute_result"
    }
   ],
   "source": [
    "from nltk.tokenize import word_tokenize\n",
    "word_tokenize('Dr. Strange loves pav bhaji of mumbi . hulk loves chat of delhi .  I love learning goioi .')"
   ]
  },
  {
   "cell_type": "code",
   "execution_count": null,
   "metadata": {},
   "outputs": [],
   "source": []
  },
  {
   "cell_type": "markdown",
   "metadata": {},
   "source": [
    "# From above code you can see that Spacy is object oriented whereas NLTK is a string processing library"
   ]
  },
  {
   "cell_type": "markdown",
   "metadata": {},
   "source": []
  }
 ],
 "metadata": {
  "kernelspec": {
   "display_name": "bd",
   "language": "python",
   "name": "python3"
  },
  "language_info": {
   "codemirror_mode": {
    "name": "ipython",
    "version": 3
   },
   "file_extension": ".py",
   "mimetype": "text/x-python",
   "name": "python",
   "nbconvert_exporter": "python",
   "pygments_lexer": "ipython3",
   "version": "3.11.4"
  },
  "orig_nbformat": 4
 },
 "nbformat": 4,
 "nbformat_minor": 2
}
