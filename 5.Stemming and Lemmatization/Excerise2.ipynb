{
 "cells": [
  {
   "cell_type": "code",
   "execution_count": null,
   "metadata": {},
   "outputs": [],
   "source": []
  },
  {
   "cell_type": "markdown",
   "metadata": {},
   "source": [
    "\n",
    "## Excersie: 2\n",
    "#### convert the given text into it's base form using both stemming and lemmatization\n",
    "\n",
    "## Hint: Use the spacy ner functionality"
   ]
  },
  {
   "cell_type": "code",
   "execution_count": 5,
   "metadata": {},
   "outputs": [
    {
     "ename": "ValueError",
     "evalue": "Mode must be one of PorterStemmer.NLTK_EXTENSIONS, PorterStemmer.MARTIN_EXTENSIONS, or PorterStemmer.ORIGINAL_ALGORITHM",
     "output_type": "error",
     "traceback": [
      "\u001b[0;31m---------------------------------------------------------------------------\u001b[0m",
      "\u001b[0;31mValueError\u001b[0m                                Traceback (most recent call last)",
      "Cell \u001b[0;32mIn[5], line 8\u001b[0m\n\u001b[1;32m      4\u001b[0m \u001b[39mfrom\u001b[39;00m \u001b[39mnltk\u001b[39;00m \u001b[39mimport\u001b[39;00m PorterStemmer\n\u001b[1;32m      6\u001b[0m text \u001b[39m=\u001b[39m \u001b[39m'''\u001b[39m\u001b[39mThe Top 5 companies in USA are Tesla, Walmart, Amazon, Microsoft, Google and the top 5 companies in \u001b[39m\n\u001b[1;32m      7\u001b[0m \u001b[39mIndia are Infosys, Reliance, HDFC Bank, Hindustan Unilever and Bharti Airtel\u001b[39m\u001b[39m'''\u001b[39m\n\u001b[0;32m----> 8\u001b[0m stemmer \u001b[39m=\u001b[39m PorterStemmer(text)\n\u001b[1;32m      9\u001b[0m \u001b[39m#for spacy\u001b[39;00m\n\u001b[1;32m     10\u001b[0m \u001b[39mimport\u001b[39;00m \u001b[39mspacy\u001b[39;00m\n",
      "File \u001b[0;32m~/anaconda3/envs/bd/lib/python3.11/site-packages/nltk/stem/porter.py:92\u001b[0m, in \u001b[0;36mPorterStemmer.__init__\u001b[0;34m(self, mode)\u001b[0m\n\u001b[1;32m     86\u001b[0m \u001b[39mdef\u001b[39;00m \u001b[39m__init__\u001b[39m(\u001b[39mself\u001b[39m, mode\u001b[39m=\u001b[39mNLTK_EXTENSIONS):\n\u001b[1;32m     87\u001b[0m     \u001b[39mif\u001b[39;00m mode \u001b[39mnot\u001b[39;00m \u001b[39min\u001b[39;00m (\n\u001b[1;32m     88\u001b[0m         \u001b[39mself\u001b[39m\u001b[39m.\u001b[39mNLTK_EXTENSIONS,\n\u001b[1;32m     89\u001b[0m         \u001b[39mself\u001b[39m\u001b[39m.\u001b[39mMARTIN_EXTENSIONS,\n\u001b[1;32m     90\u001b[0m         \u001b[39mself\u001b[39m\u001b[39m.\u001b[39mORIGINAL_ALGORITHM,\n\u001b[1;32m     91\u001b[0m     ):\n\u001b[0;32m---> 92\u001b[0m         \u001b[39mraise\u001b[39;00m \u001b[39mValueError\u001b[39;00m(\n\u001b[1;32m     93\u001b[0m             \u001b[39m\"\u001b[39m\u001b[39mMode must be one of PorterStemmer.NLTK_EXTENSIONS, \u001b[39m\u001b[39m\"\u001b[39m\n\u001b[1;32m     94\u001b[0m             \u001b[39m\"\u001b[39m\u001b[39mPorterStemmer.MARTIN_EXTENSIONS, or \u001b[39m\u001b[39m\"\u001b[39m\n\u001b[1;32m     95\u001b[0m             \u001b[39m\"\u001b[39m\u001b[39mPorterStemmer.ORIGINAL_ALGORITHM\u001b[39m\u001b[39m\"\u001b[39m\n\u001b[1;32m     96\u001b[0m         )\n\u001b[1;32m     98\u001b[0m     \u001b[39mself\u001b[39m\u001b[39m.\u001b[39mmode \u001b[39m=\u001b[39m mode\n\u001b[1;32m    100\u001b[0m     \u001b[39mif\u001b[39;00m \u001b[39mself\u001b[39m\u001b[39m.\u001b[39mmode \u001b[39m==\u001b[39m \u001b[39mself\u001b[39m\u001b[39m.\u001b[39mNLTK_EXTENSIONS:\n\u001b[1;32m    101\u001b[0m         \u001b[39m# This is a table of irregular forms. It is quite short,\u001b[39;00m\n\u001b[1;32m    102\u001b[0m         \u001b[39m# but still reflects the errors actually drawn to Martin\u001b[39;00m\n\u001b[1;32m    103\u001b[0m         \u001b[39m# Porter's attention over a 20 year period!\u001b[39;00m\n",
      "\u001b[0;31mValueError\u001b[0m: Mode must be one of PorterStemmer.NLTK_EXTENSIONS, PorterStemmer.MARTIN_EXTENSIONS, or PorterStemmer.ORIGINAL_ALGORITHM"
     ]
    }
   ],
   "source": [
    "\n",
    "#using stemming in nltk\n",
    "import nltk\n",
    "\n",
    "from nltk import PorterStemmer\n",
    "\n",
    "text = '''The Top 5 companies in USA are Tesla, Walmart, Amazon, Microsoft, Google and the top 5 companies in \n",
    "India are Infosys, Reliance, HDFC Bank, Hindustan Unilever and Bharti Airtel'''\n",
    "stemmer = PorterStemmer(text)\n",
    "#for spacy\n",
    "import spacy\n",
    "nlp = spacy.load(\"en_core_web_sm\")\n",
    "\n",
    "\n",
    "#using stemming in nltk\n",
    "\n",
    "#step1: Word tokenizing\n",
    "all_word_tokens = nltk.word_tokenize(text)\n",
    "\n",
    "\n",
    "#step2: getting the base form for each token using stemmer\n",
    "all_base_words = []\n",
    "\n",
    "for token in all_word_tokens:\n",
    "  base_form = stemmer.stem(token)\n",
    "  all_base_words.append(base_form)\n",
    "\n",
    "\n",
    "#step3: joining all words in a list into string using 'join()'\n",
    "final_base_text = ' '.join(all_base_words)\n",
    "print(final_base_text)\n"
   ]
  },
  {
   "cell_type": "code",
   "execution_count": null,
   "metadata": {},
   "outputs": [],
   "source": []
  },
  {
   "cell_type": "code",
   "execution_count": null,
   "metadata": {},
   "outputs": [],
   "source": []
  }
 ],
 "metadata": {
  "kernelspec": {
   "display_name": "bd",
   "language": "python",
   "name": "python3"
  },
  "language_info": {
   "codemirror_mode": {
    "name": "ipython",
    "version": 3
   },
   "file_extension": ".py",
   "mimetype": "text/x-python",
   "name": "python",
   "nbconvert_exporter": "python",
   "pygments_lexer": "ipython3",
   "version": "3.11.4"
  },
  "orig_nbformat": 4
 },
 "nbformat": 4,
 "nbformat_minor": 2
}
