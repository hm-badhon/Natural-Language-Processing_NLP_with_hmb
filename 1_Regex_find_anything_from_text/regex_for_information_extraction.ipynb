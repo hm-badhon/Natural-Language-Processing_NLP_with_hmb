{
 "cells": [
  {
   "cell_type": "markdown",
   "metadata": {},
   "source": [
    "# NLP Tutorial: Regular Expressions\n"
   ]
  },
  {
   "cell_type": "markdown",
   "metadata": {},
   "source": [
    "## (1) Regex in customer support\n",
    "### Retrieve order number\n"
   ]
  },
  {
   "cell_type": "code",
   "execution_count": 1,
   "metadata": {},
   "outputs": [
    {
     "data": {
      "text/plain": [
       "['1986', '2007', '2018']"
      ]
     },
     "execution_count": 1,
     "metadata": {},
     "output_type": "execute_result"
    }
   ],
   "source": [
    "import re # regular expression\n",
    "chat = 'Bor Klebber Toledo 14 June 1986 (age 37) Bom Jesus dos Perdões, São Paulo, Brazil Occupation\tActor Years active\t2007–present Spouse\tCamila Queiroz ​m. 2018)'\n",
    "# if you want to find one digit use r\"\\d\" \n",
    "# if you   want to find more digit like year (2023) use r\"\\d\\d\\d\\d\n",
    "# Learn more https://regex101.com/\n",
    "\n",
    "pattern = '\\(\\d{3}\\)-\\d{3}-\\d{4}'\n",
    "pattern2 = '\\d{6}'\n",
    "pattern3 = 'one'\n",
    "pattern4 = '\\d{4}'\n",
    "matches = re.findall(pattern4,chat)\n",
    "\n",
    "matches"
   ]
  },
  {
   "cell_type": "markdown",
   "metadata": {},
   "source": [
    "# Find all email address form text file"
   ]
  },
  {
   "cell_type": "code",
   "execution_count": 2,
   "metadata": {},
   "outputs": [
    {
     "name": "stdout",
     "output_type": "stream",
     "text": [
      "Find all email addresses below :\n",
      "john.doe@example\n",
      "jane_smith123@yahoo\n",
      "info@company\n",
      "contact_us123@example\n"
     ]
    }
   ],
   "source": [
    "import re\n",
    "\n",
    "def find_emails(text):\n",
    "    # Regrular expression pattern for matching email addresses\n",
    "    pattern = r'\\b[A-Za-z0-9._%+-]+@[A-Za-z]{2,}'\n",
    "    emails = re.findall(pattern,text)\n",
    "    return emails\n",
    "\n",
    "if __name__ == \"__main__\":\n",
    "    input_text = \"\"\"Here are some example email addresses: john.doe@example.com, jane_smith123@yahoo.co.uk,\n",
    "    info@company.org, contact_us123@example-mail-server.info. Don't forget to contact us!\n",
    "    \"\"\"\n",
    "\n",
    "    found_emails = find_emails(input_text)\n",
    "    print(\"Find all email addresses below :\")\n",
    "\n",
    "    for email in found_emails:\n",
    "        print(email)"
   ]
  },
  {
   "cell_type": "code",
   "execution_count": 3,
   "metadata": {},
   "outputs": [
    {
     "name": "stdout",
     "output_type": "stream",
     "text": [
      "Found invoice numbers:\n",
      "Here\n",
      "are\n",
      "some\n",
      "example\n",
      "invoice\n",
      "numbers\n",
      "INV1234\n",
      "56789\n",
      "INV\n",
      "2021\n",
      "ABC\n",
      "INV\n",
      "12345\n"
     ]
    }
   ],
   "source": [
    "import re\n",
    "\n",
    "def find_invoice_numbers(text):\n",
    "    # Regular expression pattern for matching invoice numbers (assumes alphanumeric format)\n",
    "    pattern = r'\\b[A-Za-z0-9]+\\b'\n",
    "\n",
    "    # Find all occurrences of the pattern in the input text\n",
    "    invoice_numbers = re.findall(pattern, text)\n",
    "\n",
    "    return invoice_numbers\n",
    "\n",
    "# Test the function\n",
    "if __name__ == \"__main__\":\n",
    "    input_text = \"\"\"\n",
    "    Here are some example invoice numbers: INV1234, 56789, INV-2021, ABC-INV-12345.\n",
    "    \"\"\"\n",
    "\n",
    "    found_invoice_numbers = find_invoice_numbers(input_text)\n",
    "    print(\"Found invoice numbers:\")\n",
    "    for invoice_number in found_invoice_numbers:\n",
    "        print(invoice_number)\n"
   ]
  },
  {
   "cell_type": "code",
   "execution_count": 4,
   "metadata": {},
   "outputs": [
    {
     "name": "stdout",
     "output_type": "stream",
     "text": [
      "Found invoice numbers     :     \n",
      "INV-1234-2021\n",
      "INV-2021-1234\n",
      "ABC123\n",
      "INV_56789\n",
      "INV@2021_ABC\n",
      "INV20210801-5678\n",
      "INV20210801\n",
      "INV_ABC\n",
      "INV-XYZ\n",
      "ABC-2021-08-01\n"
     ]
    }
   ],
   "source": [
    "import re\n",
    "\n",
    "def find_invoice_numbers(text):\n",
    "    # Regular expression patterns for matching invoice numbers\n",
    "    patterns = [\n",
    "        # r'\\b[A-Za-z0-9]+\\b',                            # Alphanumeric (e.g., ABC123)\n",
    "        r'\\b[A-Z0-9]{6,}+\\b',                            # Alphanumeric (e.g., ABC123) at 6 digit and Only upper case letter\n",
    "        r'\\bINV-\\d{4}-\\d+\\b',                            # Numeric with hyphen (e.g., INV-2021-1234)\n",
    "        r'\\bINV_\\d+\\b',                                 # Numeric with underscore (e.g., INV_56789)\n",
    "        r'\\bINV-\\d+-\\d{4}\\b',                           # Numeric with prefix and suffix (e.g., INV-1234-2021)\n",
    "        r'\\bINV-[A-Za-z]+\\b',                           # Alphabetic with hyphen (e.g., INV-XYZ)\n",
    "        r'\\bINV_[A-Za-z]+\\b',                           # Alphabetic with prefix (e.g., INV_ABC)\n",
    "        r'\\bINV[A-Za-z0-9#-]+_\\d{4}-[A-Za-z]+\\b',       # Alphanumeric with special characters (e.g., INV#2021-AB12)\n",
    "        r'\\bINV\\d{8}-\\d+\\b',                            # Numeric with prefix and date (e.g., INV20210801-5678)\n",
    "        r'\\b[A-Za-z]+-\\d{4}-\\d{2}-\\d{2}\\b',             # Alphabetic with suffix and date (e.g., ABC-2021-08-01)\n",
    "        r'\\bINV[@A-Za-z0-9_]+\\b',                       # Combination of alphanumeric and special characters (e.g., INV@2021_ABC)\n",
    "    ]\n",
    "\n",
    "    # Find all occurrences of the patterns in the input text\n",
    "    invoice_numbers = set()\n",
    "    for pattern in patterns:\n",
    "        matches = re.findall(pattern, text)\n",
    "        invoice_numbers.update(matches)\n",
    "\n",
    "    return invoice_numbers\n",
    "\n",
    "# Test the function\n",
    "if __name__ == \"__main__\":\n",
    "    input_text = \"\"\"\n",
    "    Here are some example invoice numbers: ABC123, INV-2021-1234, INV_56789,\n",
    "    INV-1234-2021, INV-XYZ, INV_ABC, INV#2021-AB12, INV20210801-5678,\n",
    "    ABC-2021-08-01, INV@2021_ABC.\n",
    "    \"\"\"\n",
    "\n",
    "    found_invoice_numbers = find_invoice_numbers(input_text)\n",
    "    print(\"Found invoice numbers     :     \")\n",
    "    for invoice_number in found_invoice_numbers:\n",
    "        print(invoice_number)\n"
   ]
  },
  {
   "cell_type": "code",
   "execution_count": 5,
   "metadata": {},
   "outputs": [],
   "source": [
    "# Phone number pattern\n",
    "\n",
    "# get_pattern_match('(\\d{10})|(\\(\\d{3}\\)-\\d{3}-\\d{4})',chat1)\n",
    "# '1235678912'\n",
    "# get_pattern_match('(\\d{10})|(\\(\\d{3}\\)-\\d{3}-\\d{4})', chat2)\n",
    "# ('', '(123)-567-8912')\n",
    "# get_pattern_match('(\\d{10})|(\\(\\d{3}\\)-\\d{3}-\\d{4})', chat3)"
   ]
  },
  {
   "cell_type": "code",
   "execution_count": 6,
   "metadata": {},
   "outputs": [
    {
     "data": {
      "text/plain": [
       "{'age': 64,\n",
       " 'name': 'Mukesh Dhirubhai Ambani',\n",
       " 'birth_date': '19 April 1957',\n",
       " 'birth_place': 'Aden, Colony of Aden'}"
      ]
     },
     "execution_count": 6,
     "metadata": {},
     "output_type": "execute_result"
    }
   ],
   "source": [
    "import re\n",
    "\n",
    "\n",
    "def extract_personal_information(text):\n",
    "    age = get_pattern_match('age (\\d+)', text)\n",
    "    full_name = get_pattern_match('Born(.*)\\n', text)\n",
    "    birth_date = get_pattern_match('Born.*\\n(.*)\\(age', text)\n",
    "    birth_place = get_pattern_match('\\(age.*\\n(.*)', text)\n",
    "    return {\n",
    "        'age': int(age),\n",
    "        'name': full_name.strip(),\n",
    "        'birth_date': birth_date.strip(),\n",
    "        'birth_place': birth_place.strip()\n",
    "    }\n",
    "\n",
    "\n",
    "def get_pattern_match(pattern, text):\n",
    "    matches = re.findall(pattern, text)\n",
    "    if matches:\n",
    "        return matches[0]\n",
    "    \n",
    "\n",
    "input_text = ''' Born\tMukesh Dhirubhai Ambani\n",
    "19 April 1957 (age 64)\n",
    "Aden, Colony of Aden\n",
    "(present-day Yemen)[1][2]\n",
    "Nationality\tIndian\n",
    "Alma mater\t\n",
    "St. Xavier's College, Mumbai\n",
    "Institute of Chemical Technology (B.E.)\n",
    "Stanford University (drop-out)\n",
    "Occupation\tChairman and MD, Reliance Industries\n",
    "Spouse(s)\tNita Ambani ​(m. 1985)​[3]\n",
    "Children\t3\n",
    "Parent(s)\t\n",
    "Dhirubhai Ambani (father)\n",
    "Kokilaben Ambani (mother)\n",
    "Relatives\tAnil Ambani (brother)\n",
    "Tina Ambani (sister-in-law) '''\n",
    "\n",
    "extract_personal_information(input_text)"
   ]
  },
  {
   "cell_type": "markdown",
   "metadata": {},
   "source": [
    "## Exercise\n",
    "### 1. Extract all twitter handles from following text. Twitter handle is the text that appears after https://twitter.com/ and is a single word. Also it contains only alpha numeric characters i.e. A-Z a-z , o to 9 and underscore _"
   ]
  },
  {
   "cell_type": "code",
   "execution_count": 7,
   "metadata": {},
   "outputs": [
    {
     "data": {
      "text/plain": [
       "['elonmusk', 'teslarati', 'dummy_tesla', 'dummy_2_tesla']"
      ]
     },
     "execution_count": 7,
     "metadata": {},
     "output_type": "execute_result"
    }
   ],
   "source": [
    "text = '''\n",
    "Follow our leader Elon musk on twitter here: https://twitter.com/elonmusk, more information \n",
    "on Tesla's products can be found at https://www.tesla.com/. Also here are leading influencers \n",
    "for tesla related news,\n",
    "https://twitter.com/teslarati\n",
    "https://twitter.com/dummy_tesla\n",
    "https://twitter.com/dummy_2_tesla\n",
    "'''\n",
    "pattern = 'https://twitter\\.com/([a-zA-Z0-9_]+)'\n",
    "\n",
    "re.findall(pattern, text)"
   ]
  },
  {
   "cell_type": "markdown",
   "metadata": {},
   "source": [
    "## 2. Extract Concentration Risk Types. It will be a text that appears after \"Concentration Risk:\", In below example, your regex should extract these two strings\n",
    "\n",
    "### (1) Credit Risk\n",
    "\n",
    "### (2) Supply Rish\n"
   ]
  },
  {
   "cell_type": "code",
   "execution_count": 8,
   "metadata": {},
   "outputs": [
    {
     "data": {
      "text/plain": [
       "['Credit Risk', 'Supply Risk']"
      ]
     },
     "execution_count": 8,
     "metadata": {},
     "output_type": "execute_result"
    }
   ],
   "source": [
    "import re\n",
    "text = '''\n",
    "Concentration of Risk: Credit Risk\n",
    "Financial instruments that potentially subject us to a concentration of credit risk consist of cash, cash equivalents, marketable securities,\n",
    "restricted cash, accounts receivable, convertible note hedges, and interest rate swaps. Our cash balances are primarily invested in money market funds\n",
    "or on deposit at high credit quality financial institutions in the U.S. These deposits are typically in excess of insured limits. As of September 30, 2021\n",
    "and December 31, 2020, no entity represented 10 more of our total accounts receivable balance. The risk of concentration for our convertible note\n",
    "hedges and interest rate swaps is mitigated by transacting with several highly-rated multinational banks.\n",
    "Concentration of Risk: Supply Risk\n",
    "We are dependent on our suppliers, including single source suppliers, and the inability of these suppliers to deliver necessary components of our\n",
    "products in a timely manner at prices, quality levels and volumes acceptable to us, or our inability to efficiently manage these components from these\n",
    "suppliers, could have a material adverse effect on our business, prospects, financial condition and operating results.\n",
    "'''\n",
    "\n",
    "pattern = 'Concentration of Risk: ([^\\n]*)'\n",
    "re.findall(pattern,text)\n"
   ]
  },
  {
   "cell_type": "markdown",
   "metadata": {},
   "source": [
    "## 3. Companies in europe reports their financial numbers of semi annual basis and you can have a document like this. To exatract quarterly and semin annual period you can use a regex as shown below\n",
    "\n"
   ]
  },
  {
   "cell_type": "code",
   "execution_count": 10,
   "metadata": {},
   "outputs": [
    {
     "data": {
      "text/plain": [
       "['2021 Q1', '2021 S1']"
      ]
     },
     "execution_count": 10,
     "metadata": {},
     "output_type": "execute_result"
    }
   ],
   "source": [
    "text = '''\n",
    "Tesla's gross cost of operating lease vehicles in FY2021 Q1 was $4.85 billion.\n",
    "BMW's gross cost of operating vehicles in FY2021 S1 was $8 billion.\n",
    "'''\n",
    "\n",
    "pattern = 'FY(\\d{4} (?:Q[1-4]|S[1-2]))'\n",
    "matches = re.findall(pattern, text)\n",
    "match es"
   ]
  },
  {
   "cell_type": "code",
   "execution_count": null,
   "metadata": {},
   "outputs": [],
   "source": []
  }
 ],
 "metadata": {
  "kernelspec": {
   "display_name": "bd",
   "language": "python",
   "name": "python3"
  },
  "language_info": {
   "codemirror_mode": {
    "name": "ipython",
    "version": 3
   },
   "file_extension": ".py",
   "mimetype": "text/x-python",
   "name": "python",
   "nbconvert_exporter": "python",
   "pygments_lexer": "ipython3",
   "version": "3.11.4"
  },
  "orig_nbformat": 4
 },
 "nbformat": 4,
 "nbformat_minor": 2
}
