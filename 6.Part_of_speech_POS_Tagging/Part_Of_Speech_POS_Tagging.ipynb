{
 "cells": [
  {
   "cell_type": "markdown",
   "metadata": {},
   "source": [
    "# POS tags & Tags\n"
   ]
  },
  {
   "cell_type": "code",
   "execution_count": 3,
   "metadata": {},
   "outputs": [
    {
     "name": "stdout",
     "output_type": "stream",
     "text": [
      "Faysal | PROPN | proper noun\n",
      "flew | VERB | verb\n",
      "to | ADP | adposition\n",
      "mars | NOUN | noun\n",
      "yesterday | NOUN | noun\n",
      ". | PUNCT | punctuation\n",
      "He | PRON | pronoun\n",
      "carried | VERB | verb\n",
      "biryani | ADJ | adjective\n",
      "masala | NOUN | noun\n",
      "with | ADP | adposition\n",
      "Tanvir | PROPN | proper noun\n"
     ]
    }
   ],
   "source": [
    "import spacy\n",
    "nlp  = spacy.load(\"en_core_web_sm\")\n",
    "\n",
    "doc = nlp(\"Faysal flew to mars yesterday. He carried biryani masala with Tanvir\")\n",
    "\n",
    "for token in doc :\n",
    "    print(token, \"|\", token.pos_, \"|\", spacy.explain(token.pos_))"
   ]
  },
  {
   "cell_type": "code",
   "execution_count": 6,
   "metadata": {},
   "outputs": [
    {
     "name": "stdout",
     "output_type": "stream",
     "text": [
      "Wow | INTJ | interjection | UH | interjection\n",
      "! | PUNCT | punctuation | . | punctuation mark, sentence closer\n",
      "Dr. | PROPN | proper noun | NNP | noun, proper singular\n",
      "Strange | PROPN | proper noun | NNP | noun, proper singular\n",
      "made | VERB | verb | VBD | verb, past tense\n",
      "265 | NUM | numeral | CD | cardinal number\n",
      "million | NUM | numeral | CD | cardinal number\n",
      "$ | NUM | numeral | CD | cardinal number\n",
      "on | ADP | adposition | IN | conjunction, subordinating or preposition\n",
      "the | DET | determiner | DT | determiner\n",
      "very | ADV | adverb | RB | adverb\n",
      "first | ADJ | adjective | JJ | adjective (English), other noun-modifier (Chinese)\n",
      "day | NOUN | noun | NN | noun, singular or mass\n"
     ]
    }
   ],
   "source": [
    "doc = nlp(\"Wow! Dr. Strange made 265 million $ on the very first day\")\n",
    "\n",
    "for token in doc:\n",
    "    print(token, \"|\", token.pos_, \"|\", spacy.explain(token.pos_), \"|\",token.tag_, \"|\", spacy.explain(token.tag_))\n"
   ]
  },
  {
   "cell_type": "code",
   "execution_count": null,
   "metadata": {},
   "outputs": [],
   "source": [
    "# https://v2.spacy.io/api/annotation\n",
    "\n"
   ]
  },
  {
   "cell_type": "markdown",
   "metadata": {},
   "source": [
    " # Removing all SPACE, PUNCT and X token from text\n"
   ]
  },
  {
   "cell_type": "code",
   "execution_count": 7,
   "metadata": {},
   "outputs": [],
   "source": [
    "\n",
    "earnings_text=\"\"\"Microsoft Corp. today announced the following results for the quarter ended December 31, 2021, as compared to the corresponding period of last fiscal year:\n",
    "\n",
    "·        Revenue was $51.7 billion and increased 20%\n",
    "·         Operating income was $22.2 billion and increased 24%\n",
    "·         Net income was $18.8 billion and increased 21%\n",
    "·         Diluted earnings per share was $2.48 and increased 22%\n",
    "“Digital technology is the most malleable resource at the world’s disposal to overcome constraints and reimagine everyday work and life,” said Satya Nadella, chairman and chief executive officer of Microsoft. “As tech as a percentage of global GDP continues to increase, we are innovating and investing across diverse and growing markets, with a common underlying technology stack and an operating model that reinforces a common strategy, culture, and sense of purpose.”\n",
    "“Solid commercial execution, represented by strong bookings growth driven by long-term Azure commitments, increased Microsoft Cloud revenue to $22.1 billion, up 32% year over year” said Amy Hood, executive vice president and chief financial officer of Microsoft.\"\"\"\n",
    "\n",
    "doc  = nlp(earnings_text)\n",
    "\n",
    "filtered_tokens = []\n",
    "\n",
    "for token in doc:\n",
    "    if token.pos_ not in [\"SPACE\", \"PUNCT\",\"X\"]:\n",
    "        filtered_tokens.append(token)"
   ]
  },
  {
   "cell_type": "code",
   "execution_count": 10,
   "metadata": {},
   "outputs": [
    {
     "name": "stdout",
     "output_type": "stream",
     "text": [
      "[Microsoft, Corp., today, announced, the, following, results, for, the, quarter]\n",
      "176\n"
     ]
    }
   ],
   "source": [
    "print(filtered_tokens[:10])\n",
    "print(len(filtered_tokens))\n"
   ]
  },
  {
   "cell_type": "code",
   "execution_count": 11,
   "metadata": {},
   "outputs": [
    {
     "name": "stdout",
     "output_type": "stream",
     "text": [
      ", | PUNCT | punctuation\n",
      ", | PUNCT | punctuation\n",
      ": | PUNCT | punctuation\n",
      "\n",
      "\n",
      " | SPACE | space\n",
      "· | PUNCT | punctuation\n",
      "         | SPACE | space\n",
      "\n",
      " | SPACE | space\n",
      "· | PUNCT | punctuation\n",
      "         | SPACE | space\n",
      "\n",
      " | SPACE | space\n",
      "· | PUNCT | punctuation\n",
      "         | SPACE | space\n",
      "\n",
      " | SPACE | space\n",
      "· | PUNCT | punctuation\n",
      "         | SPACE | space\n",
      "\n",
      " | SPACE | space\n",
      "“ | PUNCT | punctuation\n",
      ", | PUNCT | punctuation\n",
      "” | PUNCT | punctuation\n",
      ", | PUNCT | punctuation\n",
      ". | PUNCT | punctuation\n",
      "“ | PUNCT | punctuation\n",
      ", | PUNCT | punctuation\n",
      ", | PUNCT | punctuation\n",
      ", | PUNCT | punctuation\n",
      ", | PUNCT | punctuation\n",
      ". | PUNCT | punctuation\n",
      "” | PUNCT | punctuation\n",
      "\n",
      " | SPACE | space\n",
      "“ | PUNCT | punctuation\n",
      ", | PUNCT | punctuation\n",
      "- | PUNCT | punctuation\n",
      ", | PUNCT | punctuation\n",
      ", | PUNCT | punctuation\n",
      "” | PUNCT | punctuation\n",
      ", | PUNCT | punctuation\n",
      ". | PUNCT | punctuation\n"
     ]
    }
   ],
   "source": [
    "doc = nlp(earnings_text)\n",
    "\n",
    "\n",
    "for token in doc :\n",
    "    if token.pos_ in [\"SPACE\",\"X\",\"PUNCT\"]:\n",
    "        print(token,\"|\", token.pos_,\"|\", spacy.explain(token.pos_))"
   ]
  },
  {
   "cell_type": "code",
   "execution_count": 12,
   "metadata": {},
   "outputs": [
    {
     "data": {
      "text/plain": [
       "{96: 13,\n",
       " 92: 46,\n",
       " 100: 24,\n",
       " 90: 9,\n",
       " 85: 16,\n",
       " 93: 16,\n",
       " 97: 27,\n",
       " 98: 1,\n",
       " 84: 20,\n",
       " 103: 10,\n",
       " 87: 6,\n",
       " 99: 5,\n",
       " 89: 12,\n",
       " 86: 3,\n",
       " 94: 3,\n",
       " 95: 2}"
      ]
     },
     "execution_count": 12,
     "metadata": {},
     "output_type": "execute_result"
    }
   ],
   "source": [
    "count = doc.count_by(spacy.attrs.POS)\n",
    "count"
   ]
  },
  {
   "cell_type": "code",
   "execution_count": 13,
   "metadata": {},
   "outputs": [
    {
     "data": {
      "text/plain": [
       "'PROPN'"
      ]
     },
     "execution_count": 13,
     "metadata": {},
     "output_type": "execute_result"
    }
   ],
   "source": [
    "doc.vocab[96].text"
   ]
  },
  {
   "cell_type": "code",
   "execution_count": 14,
   "metadata": {},
   "outputs": [
    {
     "name": "stdout",
     "output_type": "stream",
     "text": [
      "PROPN | 13\n",
      "NOUN | 46\n",
      "VERB | 24\n",
      "DET | 9\n",
      "ADP | 16\n",
      "NUM | 16\n",
      "PUNCT | 27\n",
      "SCONJ | 1\n",
      "ADJ | 20\n",
      "SPACE | 10\n",
      "AUX | 6\n",
      "SYM | 5\n",
      "CCONJ | 12\n",
      "ADV | 3\n",
      "PART | 3\n",
      "PRON | 2\n"
     ]
    }
   ],
   "source": [
    "for k ,v in count.items():\n",
    "    print(doc.vocab[k].text, \"|\", v)"
   ]
  },
  {
   "cell_type": "code",
   "execution_count": null,
   "metadata": {},
   "outputs": [],
   "source": []
  }
 ],
 "metadata": {
  "kernelspec": {
   "display_name": "bd",
   "language": "python",
   "name": "python3"
  },
  "language_info": {
   "codemirror_mode": {
    "name": "ipython",
    "version": 3
   },
   "file_extension": ".py",
   "mimetype": "text/x-python",
   "name": "python",
   "nbconvert_exporter": "python",
   "pygments_lexer": "ipython3",
   "version": "3.11.4"
  },
  "orig_nbformat": 4
 },
 "nbformat": 4,
 "nbformat_minor": 2
}
